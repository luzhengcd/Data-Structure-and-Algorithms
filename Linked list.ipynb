{
 "cells": [
  {
   "cell_type": "markdown",
   "metadata": {},
   "source": [
    "# Linked list\n",
    "\n",
    "Linked list is another linear data structure. There are two types of linked list: singly linked list and doubly linked list. Each element in a linked list is called a node. In singly linked list, node has a value and a pointer which points to next node, and in doubly linked list, each node has a value, but has two pointers, one points to the next node, and the other points to the previous node.\n",
    "\n",
    "Unlike stack or list, the element in linked list has be accessed sequentially. That means almost all operations for linked list take $O(n)$, such as insert, delete, modify, or access an element. \n"
   ]
  },
  {
   "cell_type": "code",
   "execution_count": 5,
   "metadata": {},
   "outputs": [],
   "source": [
    "class Node():\n",
    "    def __init__(self, val):\n",
    "        self.val = val\n",
    "        self.next = None"
   ]
  },
  {
   "cell_type": "markdown",
   "metadata": {},
   "source": [
    "Some basic operations:\n",
    "\n",
    "* Insert a node\n",
    "* delete a node\n",
    "* Reverse a linked list"
   ]
  },
  {
   "cell_type": "code",
   "execution_count": 21,
   "metadata": {},
   "outputs": [],
   "source": [
    "def insert(head, val, position):\n",
    "    insert_node = Node(val)\n",
    "    \n",
    "    if position == 0:\n",
    "        insert_node.next = head\n",
    "        return isnert_node\n",
    "    \n",
    "    curr = head\n",
    "    p = 0\n",
    "    prev = None\n",
    "    \n",
    "    while curr:\n",
    "        if p == position:\n",
    "            prev.next = insert_node\n",
    "            insert_node.next = curr\n",
    "            break\n",
    "        curr = curr.next\n",
    "        p += 1\n",
    "            \n",
    "    return head\n",
    "        \n",
    "def delete(head, val):\n",
    "    # assume all values in link list is unique\n",
    "    if head.val == val:\n",
    "        return head.next\n",
    "    \n",
    "    \n",
    "    prev = None\n",
    "    \n",
    "    curr = head\n",
    "    \n",
    "    while curr:\n",
    "        if curr.val == val:\n",
    "            prev.next = curr.next\n",
    "            break\n",
    "            \n",
    "    return head\n",
    "\n",
    "    \n",
    "\n",
    "def reverse(head):\n",
    "    if not head:\n",
    "        return head\n",
    "    \n",
    "    prev = None\n",
    "    \n",
    "    while head:\n",
    "        next_node = head.next\n",
    "        head.next = prev\n",
    "        prev = head\n",
    "        head = next_node\n",
    "    return prev\n"
   ]
  },
  {
   "cell_type": "markdown",
   "metadata": {},
   "source": [
    "Some trick when soloving problems involing linked list\n",
    "\n",
    "* Slow and fast pointer: \n",
    "    If you want to get to the middle point of a linked list, a common trick is to set two pointers, one goes fast, and one goes slower.   \n",
    "    \n",
    "```python\n",
    "fast, slow = head, head\n",
    "while fast and slow and fast.next:\n",
    "    fast = fast.next.next\n",
    "    slow = slow.next\n",
    "```\n",
    "    \n",
    "* How to find the starting point of a cycle \n",
    "\n",
    "   Cycle detection for linked list is very easy to implement technically. The proof part might be a bit tricky, check [this video](https://www.youtube.com/watch?v=LUm2ABqAs1w) if you want to learn about the proof. Below is the steps: \n",
    "    - Set a fast and slow pointer as in the first bullet point\n",
    "    - When the two pointers meet, initialize another pointer starting from the first node of the linked list. Keep moving the slow pointer(or fast pointer but one node at a time) and the new pointer until they meet, the meeting node is the start of the cycle.   \n",
    "    \n",
    "* Recursion \n",
    "    If you want to input the node value in reverse order, use recursion.\n",
    "    \n",
    "```python\n",
    "def recurse(head):\n",
    "    if not head:\n",
    "        return \n",
    "   \n",
    "    recurse(head.next)\n",
    "    print(head.val)\n",
    "\n",
    "```\n",
    "    \n",
    "* DoubleLinkedList\n",
    "    The good thing about double linked list is that you can remove or add a node with only the node itself. No need to worry about the prev node and next node cause the node itself has pointer referring to prev and next node. A very typical problem is the [LRU cache design problem](https://leetcode.com/problems/lru-cache/). Double linked list can be used to optimize the solution to allow $O(1)$ operation\n",
    "    "
   ]
  },
  {
   "cell_type": "code",
   "execution_count": null,
   "metadata": {},
   "outputs": [],
   "source": []
  }
 ],
 "metadata": {
  "anaconda-cloud": {},
  "kernelspec": {
   "display_name": "Python 3",
   "language": "python",
   "name": "python3"
  },
  "language_info": {
   "codemirror_mode": {
    "name": "ipython",
    "version": 3
   },
   "file_extension": ".py",
   "mimetype": "text/x-python",
   "name": "python",
   "nbconvert_exporter": "python",
   "pygments_lexer": "ipython3",
   "version": "3.6.8"
  }
 },
 "nbformat": 4,
 "nbformat_minor": 2
}
