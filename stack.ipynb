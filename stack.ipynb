{
 "cells": [
  {
   "cell_type": "markdown",
   "metadata": {},
   "source": [
    "# Stack  \n",
    "\n",
    "Stack is an array-like data structure. The most important property of stack is FILO - first in  last out. The element that comes into the stack first is the one that is popped out the last. In python, you can use ```list``` as a stack. The common operations for stack are ```push``` (```append``` in python) - add a new element to the end of a stack, and ```pop``` - pop out an element from the end of the stack, and both of them take $O(1)$.  \n",
    "\n",
    "Some common problems that can be solved using stack:  \n",
    "\n",
    "* Input a mathematical formula as a string, and get the calculated results\n",
    "* Validate parenthesis pair: for a string like '((()())', check if all the parenthesis in the string is valid\n",
    "\n",
    "A very powerful usage of stack is monotonic stack, which can singificantly reduce the time complexity to $O(n)$ for some problems. "
   ]
  },
  {
   "cell_type": "markdown",
   "metadata": {},
   "source": [
    "[Leetcode 84. Largest Rectangle in Histogram](https://leetcode.com/problems/largest-rectangle-in-histogram/)\n",
    "\n",
    "Solution: Monotonic stack  \n",
    "\n",
    "[This](https://www.youtube.com/watch?v=zx5Sw9130L0) is the most intuitive solution I found online. The key idea is you maintain a stack, but the elements in the stack follow an increasing order, and this is where the term monotonic comes from."
   ]
  },
  {
   "cell_type": "code",
   "execution_count": 4,
   "metadata": {},
   "outputs": [],
   "source": [
    "# I just copy the code from the video.\n",
    "class Solution:\n",
    "    def largestRectangleArea(self, heights) -> int:\n",
    "        if not heights:\n",
    "            return 0\n",
    "        maxArea = 0\n",
    "        stack = [] # stack of pairs: (index, height)\n",
    "        for i, h in enumerate(heights):\n",
    "            start = i\n",
    "            while stack and stack[-1][1] > h:\n",
    "                index, height = stack.pop()\n",
    "                maxArea = max(maxArea, height * (i - index))\n",
    "                start = index\n",
    "            stack.append((start, h))\n",
    "            \n",
    "        # remaining heights extended to the end of the histogram\n",
    "        for i, h in stack:\n",
    "            maxArea = max(maxArea, h * (len(heights) - i))\n",
    "            \n",
    "        return maxArea"
   ]
  },
  {
   "cell_type": "markdown",
   "metadata": {},
   "source": [
    "\n",
    "Remember that when we start to pop out elements from stack, what we are doing is to find the area between the popping index and curr index. The reason why we can do it this way is that the monotonic stack guarantees all elements we popped before have a height at least the currently popping height, so we can make sure the bars in between are part of the rectangle.\n",
    "\n",
    "<img src=\"pic/stack1.png\" alt=\"drawing\" width=\"200\"/>\n",
    "\n",
    "\n",
    "Another trick of this solution is that when we push in a new index and new height, we keep track of how far this height is able to expend to the left. When we finish looping through the height, the remaining elements in stack is the ones that are able to go all the way to the end of the histogram. "
   ]
  },
  {
   "cell_type": "code",
   "execution_count": null,
   "metadata": {},
   "outputs": [],
   "source": []
  }
 ],
 "metadata": {
  "anaconda-cloud": {},
  "kernelspec": {
   "display_name": "Python 3",
   "language": "python",
   "name": "python3"
  },
  "language_info": {
   "codemirror_mode": {
    "name": "ipython",
    "version": 3
   },
   "file_extension": ".py",
   "mimetype": "text/x-python",
   "name": "python",
   "nbconvert_exporter": "python",
   "pygments_lexer": "ipython3",
   "version": "3.6.8"
  }
 },
 "nbformat": 4,
 "nbformat_minor": 2
}
