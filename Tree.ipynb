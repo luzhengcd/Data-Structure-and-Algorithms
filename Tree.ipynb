{
 "cells": [
  {
   "cell_type": "markdown",
   "metadata": {},
   "source": [
    "# Tree  \n",
    "\n",
    "Tree is another popular data structure. To simplify, we take binary tree as examples. Below is the node class for a binary tree where each node has a left child and right child. More generally, a node can have multiple children, and you can modify the definition of the Node class accordingly. \n"
   ]
  },
  {
   "cell_type": "code",
   "execution_count": 2,
   "metadata": {},
   "outputs": [],
   "source": [
    "class Node():\n",
    "    def __init__(self, val):\n",
    "        self.val = val\n",
    "        self.left = None\n",
    "        self.right = None"
   ]
  },
  {
   "cell_type": "markdown",
   "metadata": {},
   "source": [
    "We often start with talking about some common operations for data structure. For tree, insertion, deletion, modification is usually not the focus. We talk more about how to traverse the tree. \n",
    "\n",
    "There are three type of tree traversals for binary tree depending on when the root node is visited. \n",
    "\n",
    "* Pre-order: root -> left -> right\n",
    "* In-order: left -> root -> right\n",
    "* Post-order: left -> right -> root\n",
    "\n",
    "Implementing the three traversals is trivial with recursion\n"
   ]
  },
  {
   "cell_type": "code",
   "execution_count": 79,
   "metadata": {},
   "outputs": [],
   "source": [
    "root = Node(5)\n",
    "root.left = Node(3)\n",
    "root.right = Node(8)\n",
    "root.left.left = Node(1)\n",
    "root.left.right = Node(2)\n",
    "\n",
    "root.left.right.left = Node(10)\n",
    "root.left.right.right = Node(12)"
   ]
  },
  {
   "cell_type": "code",
   "execution_count": 80,
   "metadata": {},
   "outputs": [],
   "source": [
    "def pre_order(root):\n",
    "    if not root:\n",
    "        return \n",
    "    \n",
    "    print(root.val)\n",
    "    pre_order(root.left)\n",
    "    pre_order(root.right)\n",
    "    \n",
    "def in_order(root):\n",
    "    if not root:\n",
    "        return\n",
    "    in_order(root.left)\n",
    "    print(root.val)\n",
    "    in_order(root.right)\n",
    "    \n",
    "def post_order(root):\n",
    "    if not root:\n",
    "        return \n",
    "    post_order(root.left)\n",
    "    post_order(root.right)\n",
    "    print(root.val)"
   ]
  },
  {
   "cell_type": "markdown",
   "metadata": {},
   "source": [
    "You can also use a stack to implement the three traversals. "
   ]
  },
  {
   "cell_type": "code",
   "execution_count": 109,
   "metadata": {},
   "outputs": [],
   "source": [
    "def pre_order_stack(root):\n",
    "    #     Pre-order: root -> left -> right\n",
    "    stack = [root]\n",
    "    \n",
    "    while stack:\n",
    "        curr = stack.pop()\n",
    "        print(curr.val)\n",
    "        if curr.right:\n",
    "            stack.append(curr.right)\n",
    "        if curr.left:\n",
    "            stack.append(curr.left)\n",
    "            \n",
    "def in_order_stack(root):\n",
    "    \n",
    "    #     In-order: left -> root -> right\n",
    "    stack = []\n",
    "    \n",
    "    visited = set()\n",
    "    \n",
    "    def help(node):\n",
    "        if not node:\n",
    "            return\n",
    "        stack.append(node)\n",
    "        visited.add(node)\n",
    "        while node.left:\n",
    "            visited.add(node.left)\n",
    "            stack.append(node.left)\n",
    "            node = node.left\n",
    "        return\n",
    "    \n",
    "    help(root)\n",
    "    \n",
    "    while stack:\n",
    "        curr = stack.pop()\n",
    "        print(curr.val)\n",
    "        if curr.right and curr.right not in visited:\n",
    "            help(curr.right)\n",
    "            curr = curr.right\n",
    "\n",
    "\n",
    "def post_order_stack(root):\n",
    "    #     Post-order: left -> right -> root\n",
    "    \n",
    "    stack = []\n",
    "    visited = set()\n",
    "    def help(node):\n",
    "        if not node:\n",
    "            return\n",
    "        stack.append(node)\n",
    "        visited.add(node)\n",
    "        \n",
    "        while node.left:\n",
    "            stack.append(node.left)\n",
    "            node = node.left\n",
    "        return\n",
    "    \n",
    "    help(root)\n",
    "    \n",
    "    while stack:\n",
    "        curr = stack[-1]\n",
    "        if curr.right and curr.right not in visited:\n",
    "            help(curr.right)\n",
    "            curr = curr.right\n",
    "        else:\n",
    "            print(stack.pop().val)\n",
    "            "
   ]
  },
  {
   "cell_type": "markdown",
   "metadata": {},
   "source": [
    "The tricky part about iterative implementation of in-order and post-order is that you have to maitain a set to keep track of the nodes you have visited in case you will append duplicate nodes into your stack. "
   ]
  },
  {
   "cell_type": "markdown",
   "metadata": {},
   "source": [
    "## DFS VS. BFS\n",
    "\n",
    "DFS: Depth first search, solve connectivity problem such as connected components\n",
    "    - From left to right, go as deep as possible\n",
    "BFS: Breadth first search, solve distance problem such as shortest distance  \n",
    "    - After finishing exploring each layer, and then go the next layer\n",
    "    - One variation of BFS is running BFS on a weighted graph, also known as Dijkstra's algorithm\n",
    "\n",
    "\n",
    "Both algorithms take O(m + n) if using adjacency list to implement the graph. m is the number of edges, and n is the number of nodes."
   ]
  },
  {
   "cell_type": "code",
   "execution_count": 110,
   "metadata": {},
   "outputs": [],
   "source": [
    "# dfs is pretty much like pre-order traversal\n",
    "def dfs(node):\n",
    "    if not node:\n",
    "        return\n",
    "    \n",
    "    dfs(node.left)\n",
    "    dfs(node.right)\n",
    "    \n",
    "    return\n",
    "\n",
    "# BFS utilizes queue\n",
    "\n",
    "from collections import deque\n",
    "\n",
    "def bfs(root):\n",
    "    \n",
    "    queue = deque()\n",
    "    visited = set()\n",
    "    visited.add(root)\n",
    "    queue.append((root, 0))\n",
    "    \n",
    "    while queue:\n",
    "        curr, distance = queue.popleft()\n",
    "        for nei in node.neighbors:\n",
    "            if nei not in visited:\n",
    "                visited.append(nei)\n",
    "                queue.append((nei, distance + 1))"
   ]
  },
  {
   "cell_type": "markdown",
   "metadata": {},
   "source": [
    "# Tree-based data structures  \n",
    "\n",
    "* Union-find\n",
    "* Heap\n",
    "\n",
    "These are more advanced data structure, save for later"
   ]
  }
 ],
 "metadata": {
  "anaconda-cloud": {},
  "kernelspec": {
   "display_name": "Python 3",
   "language": "python",
   "name": "python3"
  },
  "language_info": {
   "codemirror_mode": {
    "name": "ipython",
    "version": 3
   },
   "file_extension": ".py",
   "mimetype": "text/x-python",
   "name": "python",
   "nbconvert_exporter": "python",
   "pygments_lexer": "ipython3",
   "version": "3.6.8"
  }
 },
 "nbformat": 4,
 "nbformat_minor": 2
}
